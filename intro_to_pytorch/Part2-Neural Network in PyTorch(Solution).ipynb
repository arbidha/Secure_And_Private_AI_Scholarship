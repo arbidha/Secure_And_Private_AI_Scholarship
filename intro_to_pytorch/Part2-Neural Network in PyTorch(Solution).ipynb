{
 "cells": [
  {
   "cell_type": "markdown",
   "metadata": {},
   "source": [
    "# Neural networks with PyTorch\n",
    "\n",
    "### Deep learning networks tend to be massive with dozens or hundreds of layers, that's where the term \"deep\" comes from. You can build one of these deep networks using only weight matrices as we did in the previous notebook, but in general it's very cumbersome and difficult to implement. PyTorch has a nice module nn that provides a nice way to efficiently build large neural networks.\n",
    "\n"
   ]
  },
  {
   "cell_type": "code",
   "execution_count": 1,
   "metadata": {},
   "outputs": [],
   "source": [
    "# Import necessary packages\n",
    "\n",
    "%matplotlib inline\n",
    "%config InlineBackend.figure_format = 'retina'\n",
    "\n",
    "import numpy as np\n",
    "import torch\n",
    "\n",
    "import helper\n",
    "\n",
    "import matplotlib.pyplot as plt"
   ]
  },
  {
   "cell_type": "markdown",
   "metadata": {},
   "source": [
    "Now we're going to build a larger network that can solve a (formerly) difficult problem, identifying text in an image. Here we'll use the MNIST dataset which consists of greyscale handwritten digits. \n",
    "\n",
    "### Our goal is to build a neural network that can take one of these images and predict the digit in the image.\n"
   ]
  },
  {
   "cell_type": "code",
   "execution_count": 2,
   "metadata": {},
   "outputs": [
    {
     "name": "stdout",
     "output_type": "stream",
     "text": [
      "Downloading http://yann.lecun.com/exdb/mnist/train-images-idx3-ubyte.gz to C:\\Users\\Arbidha/.pytorch/MNIST_data/MNIST\\raw\\train-images-idx3-ubyte.gz\n"
     ]
    },
    {
     "name": "stderr",
     "output_type": "stream",
     "text": [
      "9920512it [00:06, 1599181.10it/s]                             \n"
     ]
    },
    {
     "name": "stdout",
     "output_type": "stream",
     "text": [
      "Extracting C:\\Users\\Arbidha/.pytorch/MNIST_data/MNIST\\raw\\train-images-idx3-ubyte.gz\n",
      "Downloading http://yann.lecun.com/exdb/mnist/train-labels-idx1-ubyte.gz to C:\\Users\\Arbidha/.pytorch/MNIST_data/MNIST\\raw\\train-labels-idx1-ubyte.gz\n"
     ]
    },
    {
     "name": "stderr",
     "output_type": "stream",
     "text": [
      "32768it [00:00, 267050.13it/s]                         \n"
     ]
    },
    {
     "name": "stdout",
     "output_type": "stream",
     "text": [
      "Extracting C:\\Users\\Arbidha/.pytorch/MNIST_data/MNIST\\raw\\train-labels-idx1-ubyte.gz\n",
      "Downloading http://yann.lecun.com/exdb/mnist/t10k-images-idx3-ubyte.gz to C:\\Users\\Arbidha/.pytorch/MNIST_data/MNIST\\raw\\t10k-images-idx3-ubyte.gz\n"
     ]
    },
    {
     "name": "stderr",
     "output_type": "stream",
     "text": [
      "1654784it [00:01, 1370706.27it/s]                             \n"
     ]
    },
    {
     "name": "stdout",
     "output_type": "stream",
     "text": [
      "Extracting C:\\Users\\Arbidha/.pytorch/MNIST_data/MNIST\\raw\\t10k-images-idx3-ubyte.gz\n",
      "Downloading http://yann.lecun.com/exdb/mnist/t10k-labels-idx1-ubyte.gz to C:\\Users\\Arbidha/.pytorch/MNIST_data/MNIST\\raw\\t10k-labels-idx1-ubyte.gz\n"
     ]
    },
    {
     "name": "stderr",
     "output_type": "stream",
     "text": [
      "8192it [00:00, 96076.22it/s]\n"
     ]
    },
    {
     "name": "stdout",
     "output_type": "stream",
     "text": [
      "Extracting C:\\Users\\Arbidha/.pytorch/MNIST_data/MNIST\\raw\\t10k-labels-idx1-ubyte.gz\n",
      "Processing...\n",
      "Done!\n"
     ]
    }
   ],
   "source": [
    "### Run this cell\n",
    "\n",
    "from torchvision import datasets, transforms\n",
    "\n",
    "# Define a transform to normalize the data\n",
    "transform = transforms.Compose([transforms.ToTensor(),\n",
    "                              transforms.Normalize((0.5,), (0.5,)),\n",
    "                              ])\n",
    "\n",
    "# Download and load the training data\n",
    "trainset = datasets.MNIST('~/.pytorch/MNIST_data/', download=True, train=True, transform=transform)\n",
    "trainloader = torch.utils.data.DataLoader(trainset, batch_size=64, shuffle=True)"
   ]
  },
  {
   "cell_type": "markdown",
   "metadata": {},
   "source": [
    "*  training data loaded into trainloader\n",
    "* we make that an iterator with iter(trainloader)\n",
    "* This to loop through the dataset\n",
    "\n",
    "for image, label in trainloader:\n",
    "    ## do things with images and labels\n",
    "    \n",
    "* created the trainloader with a batch size of 64, and shuffle=True\n",
    "* batch size is the number of images we get in one iteration from the data loader and pass through our network, often called a batch.\n",
    "* shuffle=True tells it to shuffle the dataset every time we start going through the data loader again.\n",
    "\n",
    "### But here I'm just grabbing the first batch so we can check out the data. We can see below that images is just a tensor with size (64, 1, 28, 28). So, 64 images per batch, 1 color channel, and 28x28 images."
   ]
  },
  {
   "cell_type": "code",
   "execution_count": 3,
   "metadata": {},
   "outputs": [
    {
     "name": "stdout",
     "output_type": "stream",
     "text": [
      "<class 'torch.Tensor'>\n",
      "torch.Size([64, 1, 28, 28])\n",
      "torch.Size([64])\n"
     ]
    }
   ],
   "source": [
    "\n",
    "dataiter = iter(trainloader)\n",
    "images, labels = dataiter.next()\n",
    "print(type(images))\n",
    "print(images.shape)\n",
    "print(labels.shape)"
   ]
  },
  {
   "cell_type": "markdown",
   "metadata": {},
   "source": [
    "# This is what one of the images looks like."
   ]
  },
  {
   "cell_type": "code",
   "execution_count": 27,
   "metadata": {},
   "outputs": [
    {
     "ename": "TypeError",
     "evalue": "Invalid dimensions for image data",
     "output_type": "error",
     "traceback": [
      "\u001b[1;31m---------------------------------------------------------------------------\u001b[0m",
      "\u001b[1;31mTypeError\u001b[0m                                 Traceback (most recent call last)",
      "\u001b[1;32m<ipython-input-27-bc2cee0c0ad3>\u001b[0m in \u001b[0;36m<module>\u001b[1;34m\u001b[0m\n\u001b[1;32m----> 1\u001b[1;33m \u001b[0mplt\u001b[0m\u001b[1;33m.\u001b[0m\u001b[0mimshow\u001b[0m\u001b[1;33m(\u001b[0m\u001b[0mimages\u001b[0m\u001b[1;33m[\u001b[0m\u001b[1;36m1\u001b[0m\u001b[1;33m]\u001b[0m\u001b[1;33m.\u001b[0m\u001b[0mnumpy\u001b[0m\u001b[1;33m(\u001b[0m\u001b[1;33m)\u001b[0m\u001b[1;33m.\u001b[0m\u001b[0msqueeze\u001b[0m\u001b[1;33m(\u001b[0m\u001b[1;33m)\u001b[0m\u001b[1;33m,\u001b[0m \u001b[0mcmap\u001b[0m\u001b[1;33m=\u001b[0m\u001b[1;34m'Greys_r'\u001b[0m\u001b[1;33m)\u001b[0m\u001b[1;33m;\u001b[0m\u001b[1;33m\u001b[0m\u001b[1;33m\u001b[0m\u001b[0m\n\u001b[0m",
      "\u001b[1;32m~\\Anaconda3\\lib\\site-packages\\matplotlib\\pyplot.py\u001b[0m in \u001b[0;36mimshow\u001b[1;34m(X, cmap, norm, aspect, interpolation, alpha, vmin, vmax, origin, extent, shape, filternorm, filterrad, imlim, resample, url, data, **kwargs)\u001b[0m\n\u001b[0;32m   2699\u001b[0m         \u001b[0mfilternorm\u001b[0m\u001b[1;33m=\u001b[0m\u001b[0mfilternorm\u001b[0m\u001b[1;33m,\u001b[0m \u001b[0mfilterrad\u001b[0m\u001b[1;33m=\u001b[0m\u001b[0mfilterrad\u001b[0m\u001b[1;33m,\u001b[0m \u001b[0mimlim\u001b[0m\u001b[1;33m=\u001b[0m\u001b[0mimlim\u001b[0m\u001b[1;33m,\u001b[0m\u001b[1;33m\u001b[0m\u001b[1;33m\u001b[0m\u001b[0m\n\u001b[0;32m   2700\u001b[0m         resample=resample, url=url, **({\"data\": data} if data is not\n\u001b[1;32m-> 2701\u001b[1;33m         None else {}), **kwargs)\n\u001b[0m\u001b[0;32m   2702\u001b[0m     \u001b[0msci\u001b[0m\u001b[1;33m(\u001b[0m\u001b[0m__ret\u001b[0m\u001b[1;33m)\u001b[0m\u001b[1;33m\u001b[0m\u001b[1;33m\u001b[0m\u001b[0m\n\u001b[0;32m   2703\u001b[0m     \u001b[1;32mreturn\u001b[0m \u001b[0m__ret\u001b[0m\u001b[1;33m\u001b[0m\u001b[1;33m\u001b[0m\u001b[0m\n",
      "\u001b[1;32m~\\Anaconda3\\lib\\site-packages\\matplotlib\\__init__.py\u001b[0m in \u001b[0;36minner\u001b[1;34m(ax, data, *args, **kwargs)\u001b[0m\n\u001b[0;32m   1808\u001b[0m                         \u001b[1;34m\"the Matplotlib list!)\"\u001b[0m \u001b[1;33m%\u001b[0m \u001b[1;33m(\u001b[0m\u001b[0mlabel_namer\u001b[0m\u001b[1;33m,\u001b[0m \u001b[0mfunc\u001b[0m\u001b[1;33m.\u001b[0m\u001b[0m__name__\u001b[0m\u001b[1;33m)\u001b[0m\u001b[1;33m,\u001b[0m\u001b[1;33m\u001b[0m\u001b[1;33m\u001b[0m\u001b[0m\n\u001b[0;32m   1809\u001b[0m                         RuntimeWarning, stacklevel=2)\n\u001b[1;32m-> 1810\u001b[1;33m             \u001b[1;32mreturn\u001b[0m \u001b[0mfunc\u001b[0m\u001b[1;33m(\u001b[0m\u001b[0max\u001b[0m\u001b[1;33m,\u001b[0m \u001b[1;33m*\u001b[0m\u001b[0margs\u001b[0m\u001b[1;33m,\u001b[0m \u001b[1;33m**\u001b[0m\u001b[0mkwargs\u001b[0m\u001b[1;33m)\u001b[0m\u001b[1;33m\u001b[0m\u001b[1;33m\u001b[0m\u001b[0m\n\u001b[0m\u001b[0;32m   1811\u001b[0m \u001b[1;33m\u001b[0m\u001b[0m\n\u001b[0;32m   1812\u001b[0m         inner.__doc__ = _add_data_doc(inner.__doc__,\n",
      "\u001b[1;32m~\\Anaconda3\\lib\\site-packages\\matplotlib\\axes\\_axes.py\u001b[0m in \u001b[0;36mimshow\u001b[1;34m(self, X, cmap, norm, aspect, interpolation, alpha, vmin, vmax, origin, extent, shape, filternorm, filterrad, imlim, resample, url, **kwargs)\u001b[0m\n\u001b[0;32m   5492\u001b[0m                               resample=resample, **kwargs)\n\u001b[0;32m   5493\u001b[0m \u001b[1;33m\u001b[0m\u001b[0m\n\u001b[1;32m-> 5494\u001b[1;33m         \u001b[0mim\u001b[0m\u001b[1;33m.\u001b[0m\u001b[0mset_data\u001b[0m\u001b[1;33m(\u001b[0m\u001b[0mX\u001b[0m\u001b[1;33m)\u001b[0m\u001b[1;33m\u001b[0m\u001b[1;33m\u001b[0m\u001b[0m\n\u001b[0m\u001b[0;32m   5495\u001b[0m         \u001b[0mim\u001b[0m\u001b[1;33m.\u001b[0m\u001b[0mset_alpha\u001b[0m\u001b[1;33m(\u001b[0m\u001b[0malpha\u001b[0m\u001b[1;33m)\u001b[0m\u001b[1;33m\u001b[0m\u001b[1;33m\u001b[0m\u001b[0m\n\u001b[0;32m   5496\u001b[0m         \u001b[1;32mif\u001b[0m \u001b[0mim\u001b[0m\u001b[1;33m.\u001b[0m\u001b[0mget_clip_path\u001b[0m\u001b[1;33m(\u001b[0m\u001b[1;33m)\u001b[0m \u001b[1;32mis\u001b[0m \u001b[1;32mNone\u001b[0m\u001b[1;33m:\u001b[0m\u001b[1;33m\u001b[0m\u001b[1;33m\u001b[0m\u001b[0m\n",
      "\u001b[1;32m~\\Anaconda3\\lib\\site-packages\\matplotlib\\image.py\u001b[0m in \u001b[0;36mset_data\u001b[1;34m(self, A)\u001b[0m\n\u001b[0;32m    644\u001b[0m         if not (self._A.ndim == 2\n\u001b[0;32m    645\u001b[0m                 or self._A.ndim == 3 and self._A.shape[-1] in [3, 4]):\n\u001b[1;32m--> 646\u001b[1;33m             \u001b[1;32mraise\u001b[0m \u001b[0mTypeError\u001b[0m\u001b[1;33m(\u001b[0m\u001b[1;34m\"Invalid dimensions for image data\"\u001b[0m\u001b[1;33m)\u001b[0m\u001b[1;33m\u001b[0m\u001b[1;33m\u001b[0m\u001b[0m\n\u001b[0m\u001b[0;32m    647\u001b[0m \u001b[1;33m\u001b[0m\u001b[0m\n\u001b[0;32m    648\u001b[0m         \u001b[1;32mif\u001b[0m \u001b[0mself\u001b[0m\u001b[1;33m.\u001b[0m\u001b[0m_A\u001b[0m\u001b[1;33m.\u001b[0m\u001b[0mndim\u001b[0m \u001b[1;33m==\u001b[0m \u001b[1;36m3\u001b[0m\u001b[1;33m:\u001b[0m\u001b[1;33m\u001b[0m\u001b[1;33m\u001b[0m\u001b[0m\n",
      "\u001b[1;31mTypeError\u001b[0m: Invalid dimensions for image data"
     ]
    },
    {
     "data": {
      "image/png": "[encoded data removed]",
      "text/plain": [
       "<Figure size 432x288 with 1 Axes>"
      ]
     },
     "metadata": {
      "image/png": {
       "height": 252,
       "width": 262
      },
      "needs_background": "light"
     },
     "output_type": "display_data"
    }
   ],
   "source": [
    "plt.imshow(images[1].numpy().squeeze(), cmap='Greys_r');"
   ]
  },
  {
   "cell_type": "markdown",
   "metadata": {},
   "source": [
    "*   The networks you've seen so far are called fully-connected or dense networks. Each unit in one layer is connected to each unit in the next layer.In fully-connected networks, the input to each layer must be a one-dimensional vector (which can be stacked into a 2D tensor as a batch of multiple examples).\n",
    "\n",
    "*   However, our images are 28x28 2D tensors, so we need to convert them into 1D vectors. Thinking about sizes, we need to convert the batch of images with shape (64, 1, 28, 28) to a have a shape of (64, 784), 784 is 28 times 28. This is typically called flattening, we flattened the 2D images into 1D vectors."
   ]
  },
  {
   "cell_type": "markdown",
   "metadata": {},
   "source": [
    "## OUR GOAL"
   ]
  },
  {
   "cell_type": "markdown",
   "metadata": {},
   "source": [
    "Here we need 10 output units, one for each digit. We want our network to predict the digit shown in an image, so what we'll do is calculate probabilities that the image is of any one digit or class. This ends up being a discrete probability distribution over the classes (digits) that tells us the most likely class for the image. That means we need 10 output units for the 10 classes (digits). We'll see how to convert the network output into a probability distribution next."
   ]
  },
  {
   "cell_type": "markdown",
   "metadata": {},
   "source": [
    "## Exercise 1: \n",
    "### Flatten the batch of images images. Then build a multi-layer network with 784 input units, 256 hidden units, and 10 output units using random tensors for the weights and biases. For now, use a sigmoid activation for the hidden layer. Leave the output layer without an activation, we'll add one that gives us a probability distribution next."
   ]
  },
  {
   "cell_type": "code",
   "execution_count": 8,
   "metadata": {},
   "outputs": [
    {
     "name": "stdout",
     "output_type": "stream",
     "text": [
      "tensor([[-1., -1., -1.,  ..., -1., -1., -1.],\n",
      "        [-1., -1., -1.,  ..., -1., -1., -1.],\n",
      "        [-1., -1., -1.,  ..., -1., -1., -1.],\n",
      "        ...,\n",
      "        [-1., -1., -1.,  ..., -1., -1., -1.],\n",
      "        [-1., -1., -1.,  ..., -1., -1., -1.],\n",
      "        [-1., -1., -1.,  ..., -1., -1., -1.]])\n",
      "tensor([[ -3.6636, -10.2372,   6.6623, -11.6412,  -0.3391,  -7.2024,  -8.0738,\n",
      "          12.5667,   4.9425,   5.4034],\n",
      "        [  1.9316,  -7.3693,  12.2230,  -5.1341,   4.8626, -12.0173, -16.8580,\n",
      "           6.5903,   2.6282,  -7.9222],\n",
      "        [ -5.6430, -17.9577,   4.5458,   0.6003,   7.8570,  -7.6020,  -1.7694,\n",
      "           3.7084,  15.5935,  -0.6830],\n",
      "        [ -8.6005, -12.3773,   4.6897,  18.8306,   0.6668,  -9.1522,  -6.2259,\n",
      "          18.3098,   7.9675,  11.4519],\n",
      "        [  3.7715,  -7.3679,   5.5727,   2.8102,   8.4232,  -3.7337,  -8.9310,\n",
      "           6.1208,  11.8703,   5.3602],\n",
      "        [  8.6161,  -9.3104,   6.3886,   1.9412,  16.3784,  -9.1794, -18.5110,\n",
      "           3.4504,  11.1045,  -4.3428],\n",
      "        [ 14.7109,  -0.1841,   7.1370,  -1.0514,   0.6625,  -1.6055, -19.3965,\n",
      "           6.4986,   5.2779,  -1.8926],\n",
      "        [  0.8267,  -9.5284,   5.6063,   6.8779,   4.4574,   1.4539, -12.5726,\n",
      "           7.9165,   2.1676,   5.0944],\n",
      "        [ -0.9160,  -2.3076,  11.8331,  -0.8117,  13.8758,   1.9260,  -5.1007,\n",
      "           5.5268,  12.0162, -11.8777],\n",
      "        [  7.6384,   0.4733,   4.9818,  -6.5565,   7.8033,  -1.4954, -12.9347,\n",
      "           4.4215,   8.2433,  -2.0507],\n",
      "        [  2.8523,  -8.5771,   1.7183,  12.7013,   9.4574,  -5.2281,  -6.9128,\n",
      "          -4.3692,  17.7925,   9.9642],\n",
      "        [  2.3544,  -3.4679,   9.7568,  -7.9133,  10.5332,  -3.9837, -11.2380,\n",
      "          -3.6103,   7.5862,   5.0770],\n",
      "        [ -1.9285, -19.2293,  -0.9577,  -3.3858,  14.4780,  -9.1309,  -8.9115,\n",
      "          15.0278,  17.1966,  -0.8856],\n",
      "        [ 10.7196,  -4.2253,  12.7680,  -1.9388,   9.2479,   0.5497, -13.0742,\n",
      "           4.1635,   9.4050,  -5.4074],\n",
      "        [  1.1679,  -8.6252,  12.8294,  -6.2813,  10.9090, -13.2566,  -4.3641,\n",
      "           1.0395,   1.6301,  15.4897],\n",
      "        [ -1.7901, -15.1651,   0.6523,   1.9686,  17.9803,  -2.7159, -13.3258,\n",
      "           1.5466,  11.3037,   3.1572],\n",
      "        [  4.4840,  -6.2904,  14.9093,   8.1653,   3.1960,  -4.4654, -12.2558,\n",
      "           6.2114,  10.2869,  -3.1848],\n",
      "        [  0.2559, -10.5802,  11.6118,  -3.2028,  -6.2863, -10.7562, -14.4299,\n",
      "           5.9937,  -1.3695,  -1.5343],\n",
      "        [  1.4855, -15.6556,   2.6350,   9.1670,  16.3758,  -2.8014,  -8.2505,\n",
      "          -0.2872,   5.3312,   0.8669],\n",
      "        [ -1.8825, -10.2072,  11.0977,  -1.4017,   5.0858,  -1.8959, -20.2059,\n",
      "           4.5993,   7.7508,  -2.0997],\n",
      "        [  2.8771,  -2.5504,   6.4396,   4.2312,  14.0777, -10.1818, -10.2793,\n",
      "           3.9946,  14.3874,   9.1203],\n",
      "        [  7.6537,  -9.7197,   0.0564,   6.2865,   4.4336,  -8.1169,  -7.0496,\n",
      "           5.0477,   4.4688,   7.3566],\n",
      "        [  9.5187, -13.7348,   6.1663,   8.6398,  -3.0375, -11.5712,  -9.2552,\n",
      "          -0.2586,   8.2876,  13.6097],\n",
      "        [ -1.2208,  -7.6104,   3.9050,  11.7570,  10.5862,  -0.6446,  -2.0480,\n",
      "           8.8779,  -1.6275,   7.5705],\n",
      "        [  5.5584,  -9.4757,   1.3220,  -6.8021,   4.6115,  -9.7260, -16.3966,\n",
      "          -2.5817,   8.5279,  -2.2901],\n",
      "        [  6.8854,   0.6309,  -1.8553,  -4.3851,  -0.2485,  -0.3262, -20.2784,\n",
      "          -1.0455,   5.8892,  -9.4678],\n",
      "        [ -5.2696, -10.1111,  11.1885,   5.1083,   5.3749,  -2.4761,  -4.0289,\n",
      "           5.9908,   9.9363,  13.8672],\n",
      "        [ -1.1851,  -5.3556,   7.5228,  13.0506,  10.6331,  -8.7600,  -9.5728,\n",
      "          10.3272,  10.6295,  -0.9176],\n",
      "        [  1.9390,  -8.8316,  10.4459,  10.2409,  18.0392, -10.0484, -14.2051,\n",
      "           5.2345,   4.5508, -10.5692],\n",
      "        [ -5.6761,  -3.9506,  12.8173,  -3.4684,   6.1693,  -5.7847,  -7.7008,\n",
      "           5.8656,   2.4386,   5.7516],\n",
      "        [ -6.2858,  -8.8615,  12.3333,  -3.2250,   5.7175,  -2.4524,  -5.5207,\n",
      "           9.1764,   6.4800,  -1.2374],\n",
      "        [  7.0390, -13.1029,   8.8944,  -0.6228,  14.3158,  -0.7996, -11.8074,\n",
      "           7.4573,  17.4157,   2.6474],\n",
      "        [  9.1804,   2.3969,   7.0710,  -9.3779,  -1.1187,  -4.0833, -11.5022,\n",
      "           5.3603,   5.2711,  -0.8809],\n",
      "        [  1.6367,  -5.6846,  13.1435,   0.3187,  15.0106,  -8.5503,  -7.6141,\n",
      "          -2.6511,   4.2995,  11.0549],\n",
      "        [ -3.2279,  -0.4334,  11.5359,  -2.3016,   8.1100,  -6.5297,  -3.2697,\n",
      "          -2.0291,  -0.2128,   8.6594],\n",
      "        [  2.4026,  -7.2845,  12.4560,  -2.7538,   6.0560,  -4.7094, -15.5213,\n",
      "           5.7171,  11.5249,  -7.8341],\n",
      "        [  6.8454,  -8.2812,   8.0292,   9.2307,   6.5563,  -8.5726,  -7.4527,\n",
      "           6.1817,   1.0346,   1.1082],\n",
      "        [  3.2027, -10.4398,  14.9259,  -0.8626,  12.0151,  -3.2358, -11.7183,\n",
      "           5.3463,  17.2366,   2.9855],\n",
      "        [  7.3166,  -2.1920,   3.6783, -11.9928,   6.3425, -14.5222, -19.3449,\n",
      "           1.6788,  -2.1346,   5.5941],\n",
      "        [ 16.0183,  -6.9215,   1.1463,  -7.7462,   8.6164,   3.5279,  -1.4922,\n",
      "           1.0188,   5.2381,   7.7875],\n",
      "        [  1.5158, -11.8786,   4.7602,   4.4053,   5.1087, -10.0328,  -7.1047,\n",
      "           0.4477,  13.2072,  -6.9353],\n",
      "        [  4.7538,  -7.7100,   1.4629,   0.7377,   4.1745, -12.5938, -14.7259,\n",
      "           4.2751,  10.6157,  -1.2405],\n",
      "        [ -2.3833, -13.0030,   0.5915,   3.6583,   9.1721,   0.0411,  -0.3470,\n",
      "           7.1382,   5.2204,   3.2641],\n",
      "        [  6.8616,   7.7505,  16.4256,   0.8565,   8.2250,  -4.3518, -10.6228,\n",
      "          -3.5906,   0.5666,   2.2934],\n",
      "        [ -0.1624, -17.7890,  -1.3018,  -8.7879,   9.1166, -11.1316,  -7.0459,\n",
      "           0.1014,  11.3642,  -0.3535],\n",
      "        [  4.1575, -12.0429,   4.4990,  10.3910,  11.5061,  -4.6440, -12.4542,\n",
      "           9.8371,  16.9047,   3.4328],\n",
      "        [  9.0991,  -9.0350,  -0.0351,  10.3289,  11.8521,  -3.8783, -10.6803,\n",
      "          11.0488,  13.2889,  -4.1674],\n",
      "        [  0.4666,  -4.2205,  11.3227,   4.9977,   1.2086,  -6.6835,  -5.3842,\n",
      "          -7.0897,  13.7964,   9.8103],\n",
      "        [  9.9745,   2.8756,  15.9811,  -3.8761,   5.4494,  -0.1038, -13.0100,\n",
      "          -5.9774,   3.0147,  11.5518],\n",
      "        [  9.6902,  -8.2690,  13.0821,   3.0849,   8.2013,  -4.9416, -10.2313,\n",
      "           8.3833,   0.7513,   3.9988],\n",
      "        [  5.0414,   3.7094,  14.7733,   1.9470,   6.5853, -10.7717, -10.3231,\n",
      "          -6.2104,   2.5848,   2.0353],\n",
      "        [  5.8859, -10.3619,  13.7190,   6.9292,  10.2839,  -5.6206,  -7.2507,\n",
      "           1.3939,   6.9363,   2.9653],\n",
      "        [  9.5762, -16.9530,   6.7373,  -0.5977,  11.9273,  -6.5067,  -9.5647,\n",
      "           9.2387,  16.7657,   4.7175],\n",
      "        [  6.0651,  -1.1043,   9.6700,   1.2440,   8.5327,  -5.6561, -17.8832,\n",
      "          -4.8444,  -0.3928,  -4.3848],\n",
      "        [  3.0033,   0.1666,  19.1551,  -3.2865,  15.8770,  -5.8343, -10.7870,\n",
      "           0.6386,  12.8964,   9.6247],\n",
      "        [  2.3009, -12.6727,   7.6813,   6.2972,  13.2530,  -7.8533, -16.2809,\n",
      "           5.4459,  19.8899,   1.8146],\n",
      "        [  2.0102,  -9.6595,   5.2786,  -1.7055,  -0.7363,  -4.8894, -11.8634,\n",
      "          12.7383,   9.0078,   0.5778],\n",
      "        [  1.7764, -16.7616,  11.0563,   3.9646,   5.7191,  -6.6813,  -9.8782,\n",
      "           0.7709,   8.8436,   3.5613],\n",
      "        [  6.4390,  -8.1356,   9.1517,   6.6186,  11.5203,   0.7261, -11.5413,\n",
      "          -1.3059,  12.6868,  -1.2032],\n",
      "        [ -7.1774,  -4.1161,   8.9964,   1.1559,   5.4209, -11.3155,  -8.7859,\n",
      "           5.8572,   3.0303,   4.4743],\n",
      "        [ -0.0294,   1.3760,  12.2506,  -0.1426,  11.1876,   1.0042, -12.6002,\n",
      "           1.3816,  10.2109, -10.1497],\n",
      "        [  1.5247, -14.3158,  12.6330,  -1.2369,  10.7106,  -5.5046,   0.7291,\n",
      "           4.0527,   9.7276,   4.8563],\n",
      "        [ -3.1398,  -9.7111,   0.8444,   2.9261,   0.6832,  -7.5597, -12.3017,\n",
      "           8.6350,   5.5552,  -3.0726],\n",
      "        [ -2.3831, -11.2571,   9.9553,  -5.7673,  12.0583,   1.0111,  -4.0222,\n",
      "           4.8769,   4.9661,   3.4358]])\n"
     ]
    }
   ],
   "source": [
    "## Your solution\n",
    "def activation(x):\n",
    "    return 1/(1+torch.exp(-x))\n",
    "\n",
    "# Flatten the batch of images\n",
    "inputs = images.view(images.shape[0], -1)\n",
    "print(inputs)\n",
    "\n",
    "# Create own random initial weight and bais\n",
    "w1 = torch.randn(784, 256)\n",
    "b1 = torch.randn(256)\n",
    "\n",
    "w2 = torch.randn(256, 10)\n",
    "b2 = torch.randn(10)\n",
    "\n",
    "h = activation(torch.mm(inputs, w1) + b1)\n",
    " # output of your network, should have shape (64,10)\n",
    "out = torch.mm(h, w2) + b2\n",
    "print(out)"
   ]
  },
  {
   "cell_type": "markdown",
   "metadata": {},
   "source": [
    "Now we have 10 outputs for our network. We want to pass in an image to our network and get out a probability distribution over the classes that tells us the likely class(es) the image belongs to. "
   ]
  },
  {
   "cell_type": "markdown",
   "metadata": {},
   "source": [
    "## Exercise 2: \n",
    "### Implement a function softmax that performs the softmax calculation and returns probability distributions for each example in the batch. \n",
    "\n",
    "### Note :\n",
    "that you'll need to pay attention to the shapes when doing this. If you have a tensor a with shape (64, 10) and a tensor b with shape (64,), doing a/b will give you an error because PyTorch will try to do the division across the columns (called broadcasting) but you'll get a size mismatch. The way to think about this is for each of the 64 examples, you only want to divide by one value, the sum in the denominator. So you need b to have a shape of (64, 1). This way PyTorch will divide the 10 values in each row of a by the one value in each row of b. Pay attention to how you take the sum as well. You'll need to define the dim keyword in torch.sum. Setting dim=0 takes the sum across the rows while dim=1 takes the sum across the columns."
   ]
  },
  {
   "cell_type": "markdown",
   "metadata": {},
   "source": [
    "#### To calculate this probability distribution, we often use the softmax function. Mathematically this looks like\n",
    "\n",
    "$$\n",
    "\\Large \\sigma(x_i) = \\cfrac{e^{x_i}}{\\sum_k^K{e^{x_k}}}\n",
    "$$\n",
    "#### What this does is squish each input $x_i$ between 0 and 1 and normalizes the values to give you a proper probability distribution where the probabilites sum up to one."
   ]
  },
  {
   "cell_type": "code",
   "execution_count": 10,
   "metadata": {},
   "outputs": [
    {
     "name": "stdout",
     "output_type": "stream",
     "text": [
      "torch.Size([64, 10])\n",
      "tensor([1.0000, 1.0000, 1.0000, 1.0000, 1.0000, 1.0000, 1.0000, 1.0000, 1.0000,\n",
      "        1.0000, 1.0000, 1.0000, 1.0000, 1.0000, 1.0000, 1.0000, 1.0000, 1.0000,\n",
      "        1.0000, 1.0000, 1.0000, 1.0000, 1.0000, 1.0000, 1.0000, 1.0000, 1.0000,\n",
      "        1.0000, 1.0000, 1.0000, 1.0000, 1.0000, 1.0000, 1.0000, 1.0000, 1.0000,\n",
      "        1.0000, 1.0000, 1.0000, 1.0000, 1.0000, 1.0000, 1.0000, 1.0000, 1.0000,\n",
      "        1.0000, 1.0000, 1.0000, 1.0000, 1.0000, 1.0000, 1.0000, 1.0000, 1.0000,\n",
      "        1.0000, 1.0000, 1.0000, 1.0000, 1.0000, 1.0000, 1.0000, 1.0000, 1.0000,\n",
      "        1.0000])\n"
     ]
    }
   ],
   "source": [
    "# Decalre softmax function\n",
    "\n",
    "def softmax(x):\n",
    "    return torch.exp(x)/torch.sum(torch.exp(x),dim =1).view(-1,1)\n",
    "\n",
    "probablity = softmax(out)\n",
    "\n",
    "# Check if it has the shape (64,10)\n",
    "print(probablity.shape)\n",
    "\n",
    "# Sum to 1\n",
    "print(probablity.sum(dim=1))"
   ]
  },
  {
   "cell_type": "markdown",
   "metadata": {},
   "source": [
    "# Building networks with PyTorch\n",
    "PyTorch provides a module nn that makes building networks much simpler. Here I'll show you how to build the same one as above with 784 inputs, 256 hidden units, 10 output units and a softmax output.\n"
   ]
  },
  {
   "cell_type": "code",
   "execution_count": 12,
   "metadata": {},
   "outputs": [],
   "source": [
    "from torch import nn\n",
    "\n",
    "class Network(nn.Module):\n",
    "    def __init__(self):\n",
    "        super().__init__()\n",
    "        \n",
    "        # Inputs to hidden layer linear transformation\n",
    "        self.hidden = nn.Linear(784, 256)\n",
    "        \n",
    "        # Output layer, 10 units - one for each digit\n",
    "        self.output = nn.Linear(256, 10)\n",
    "        \n",
    "        # Define sigmoid activation and softmax output \n",
    "        self.sigmoid = nn.Sigmoid()\n",
    "        self.softmax = nn.Softmax(dim=1)\n",
    "        \n",
    "    def forward(self, x):\n",
    "        # Pass the input tensor through each of our operations\n",
    "        x = self.hidden(x)\n",
    "        x = self.sigmoid(x)\n",
    "        x = self.output(x)\n",
    "        x = self.softmax(x)\n",
    "        \n",
    "        return x\n",
    "    "
   ]
  },
  {
   "cell_type": "code",
   "execution_count": 13,
   "metadata": {},
   "outputs": [
    {
     "data": {
      "text/plain": [
       "Network(\n",
       "  (hidden): Linear(in_features=784, out_features=256, bias=True)\n",
       "  (output): Linear(in_features=256, out_features=10, bias=True)\n",
       "  (sigmoid): Sigmoid()\n",
       "  (softmax): Softmax()\n",
       ")"
      ]
     },
     "execution_count": 13,
     "metadata": {},
     "output_type": "execute_result"
    }
   ],
   "source": [
    "# Create the network and look at it's text representation\n",
    "model = Network()\n",
    "model"
   ]
  },
  {
   "cell_type": "code",
   "execution_count": 15,
   "metadata": {},
   "outputs": [
    {
     "data": {
      "text/plain": [
       "Network(\n",
       "  (hidden): Linear(in_features=784, out_features=256, bias=True)\n",
       "  (output): Linear(in_features=256, out_features=10, bias=True)\n",
       ")"
      ]
     },
     "execution_count": 15,
     "metadata": {},
     "output_type": "execute_result"
    }
   ],
   "source": [
    "### Simpler and clean and most commonly used way\n",
    "\n",
    "\n",
    "import torch.nn.functional as F\n",
    "\n",
    "class Network(nn.Module):\n",
    "    def __init__(self):\n",
    "        super().__init__()\n",
    "        # Inputs to hidden layer linear transformation\n",
    "        self.hidden = nn.Linear(784, 256)\n",
    "        # Output layer, 10 units - one for each digit\n",
    "        self.output = nn.Linear(256, 10)\n",
    "        \n",
    "    def forward(self, x):\n",
    "        # Hidden layer with sigmoid activation\n",
    "        x = F.sigmoid(self.hidden(x))\n",
    "        # Output layer with softmax activation\n",
    "        x = F.softmax(self.output(x), dim=1)\n",
    "        \n",
    "        return x\n",
    "    \n",
    "model = Network()\n",
    "model"
   ]
  },
  {
   "cell_type": "markdown",
   "metadata": {},
   "source": [
    "## Exercise 3: \n",
    "### Create a network with 784 input units, a hidden layer with 128 units and a ReLU activation, then a hidden layer with 64 units and a ReLU activation, and finally an output layer with a softmax activation as shown above. You can use a ReLU activation with the nn.ReLU module or  F.relu function.\n",
    "\n",
    "##### It's good practice to name your layers by their type of network, for instance 'fc' to represent a fully-connected layer. As you code your solution, use fc1, fc2, and fc3 as your layer names."
   ]
  },
  {
   "cell_type": "code",
   "execution_count": 26,
   "metadata": {},
   "outputs": [
    {
     "data": {
      "text/plain": [
       "Network(\n",
       "  (fc1): Linear(in_features=784, out_features=128, bias=True)\n",
       "  (fc2): Linear(in_features=128, out_features=64, bias=True)\n",
       "  (fc3): Linear(in_features=64, out_features=10, bias=True)\n",
       ")"
      ]
     },
     "execution_count": 26,
     "metadata": {},
     "output_type": "execute_result"
    }
   ],
   "source": [
    "## Solution\n",
    "import torch.nn.functional as F\n",
    "\n",
    "class Network(nn.Module):\n",
    "    def __init__(self):\n",
    "        super().__init__()\n",
    "        \n",
    "        # Defining layer \n",
    "        # I/p layer 784 , Hidden layer1 128 ,Hidden layer2 64 , softmax 10\n",
    "        self.fc1 = nn.Linear(784, 128)\n",
    "        self.fc2 = nn.Linear(128,64)\n",
    "            \n",
    "        # Output layer, 10 units - one for each digit\n",
    "        self.fc3 = nn.Linear(64, 10)\n",
    "\n",
    "        \n",
    "    def forward(self, x):\n",
    "        # Pass the input tensor through each of our operations\n",
    "        x = self.fc1(x)\n",
    "        x = F.relu(x)\n",
    "        x = self.fc2(x)\n",
    "        x = F.relu(x)\n",
    "        x = self.fc3(x)\n",
    "        x = F.softmax(x, dim=1)\n",
    "        \n",
    "        return x\n",
    "    \n",
    "model = Network()\n",
    "model"
   ]
  },
  {
   "cell_type": "markdown",
   "metadata": {},
   "source": [
    "### Using **nn.Sequential**\n",
    "\n",
    "#### PyTorch provides a convenient way to build networks like this where a tensor is passed sequentially through operations, nn.Sequential (documentation). Using this to build the equivalent network:"
   ]
  },
  {
   "cell_type": "code",
   "execution_count": 20,
   "metadata": {},
   "outputs": [
    {
     "name": "stdout",
     "output_type": "stream",
     "text": [
      "Sequential(\n",
      "  (0): Linear(in_features=784, out_features=128, bias=True)\n",
      "  (1): ReLU()\n",
      "  (2): Linear(in_features=128, out_features=64, bias=True)\n",
      "  (3): ReLU()\n",
      "  (4): Linear(in_features=64, out_features=10, bias=True)\n",
      "  (5): Softmax()\n",
      ")\n"
     ]
    },
    {
     "data": {
      "image/png": "[encoded data removed]",
      "text/plain": [
       "<Figure size 432x648 with 2 Axes>"
      ]
     },
     "metadata": {
      "image/png": {
       "height": 226,
       "width": 423
      },
      "needs_background": "light"
     },
     "output_type": "display_data"
    }
   ],
   "source": [
    "# Hyperparameters for our network\n",
    "input_size = 784\n",
    "hidden_sizes = [128, 64]\n",
    "output_size = 10\n",
    "\n",
    "# Build a feed-forward network\n",
    "model = nn.Sequential(nn.Linear(input_size, hidden_sizes[0]),\n",
    "                      nn.ReLU(),\n",
    "                      nn.Linear(hidden_sizes[0], hidden_sizes[1]),\n",
    "                      nn.ReLU(),\n",
    "                      nn.Linear(hidden_sizes[1], output_size),\n",
    "                      nn.Softmax(dim=1))\n",
    "print(model)\n",
    "\n",
    "# Forward pass through the network and display output\n",
    "images, labels = next(iter(trainloader))\n",
    "images.resize_(images.shape[0], 1, 784)\n",
    "ps = model.forward(images[0,:])\n",
    "helper.view_classify(images[0].view(1, 28, 28), ps)"
   ]
  },
  {
   "cell_type": "code",
   "execution_count": 21,
   "metadata": {},
   "outputs": [
    {
     "name": "stdout",
     "output_type": "stream",
     "text": [
      "Linear(in_features=784, out_features=128, bias=True)\n"
     ]
    },
    {
     "data": {
      "text/plain": [
       "Parameter containing:\n",
       "tensor([[-0.0109,  0.0158, -0.0309,  ...,  0.0175,  0.0074, -0.0205],\n",
       "        [-0.0252, -0.0353,  0.0079,  ..., -0.0205,  0.0070, -0.0052],\n",
       "        [ 0.0057, -0.0334,  0.0204,  ..., -0.0234, -0.0020, -0.0010],\n",
       "        ...,\n",
       "        [ 0.0119,  0.0007,  0.0099,  ...,  0.0302,  0.0081,  0.0260],\n",
       "        [-0.0123, -0.0343, -0.0029,  ...,  0.0044, -0.0043, -0.0140],\n",
       "        [ 0.0119, -0.0111,  0.0202,  ..., -0.0220, -0.0099,  0.0109]],\n",
       "       requires_grad=True)"
      ]
     },
     "execution_count": 21,
     "metadata": {},
     "output_type": "execute_result"
    }
   ],
   "source": [
    "\n",
    "print(model[0])\n",
    "model[0].weight"
   ]
  },
  {
   "cell_type": "code",
   "execution_count": 22,
   "metadata": {},
   "outputs": [
    {
     "data": {
      "text/plain": [
       "Sequential(\n",
       "  (fc1): Linear(in_features=784, out_features=128, bias=True)\n",
       "  (relu1): ReLU()\n",
       "  (fc2): Linear(in_features=128, out_features=64, bias=True)\n",
       "  (relu2): ReLU()\n",
       "  (output): Linear(in_features=64, out_features=10, bias=True)\n",
       "  (softmax): Softmax()\n",
       ")"
      ]
     },
     "execution_count": 22,
     "metadata": {},
     "output_type": "execute_result"
    }
   ],
   "source": [
    "from collections import OrderedDict\n",
    "model = nn.Sequential(OrderedDict([\n",
    "                      ('fc1', nn.Linear(input_size, hidden_sizes[0])),\n",
    "                      ('relu1', nn.ReLU()),\n",
    "                      ('fc2', nn.Linear(hidden_sizes[0], hidden_sizes[1])),\n",
    "                      ('relu2', nn.ReLU()),\n",
    "                      ('output', nn.Linear(hidden_sizes[1], output_size)),\n",
    "                      ('softmax', nn.Softmax(dim=1))]))\n",
    "model"
   ]
  },
  {
   "cell_type": "code",
   "execution_count": 23,
   "metadata": {},
   "outputs": [
    {
     "name": "stdout",
     "output_type": "stream",
     "text": [
      "Linear(in_features=784, out_features=128, bias=True)\n",
      "Linear(in_features=784, out_features=128, bias=True)\n"
     ]
    }
   ],
   "source": [
    "\n",
    "print(model[0])\n",
    "print(model.fc1)"
   ]
  },
  {
   "cell_type": "code",
   "execution_count": null,
   "metadata": {},
   "outputs": [],
   "source": [
    "SS"
   ]
  }
 ],
 "metadata": {
  "kernelspec": {
   "display_name": "Python 3",
   "language": "python",
   "name": "python3"
  },
  "language_info": {
   "codemirror_mode": {
    "name": "ipython",
    "version": 3
   },
   "file_extension": ".py",
   "mimetype": "text/x-python",
   "name": "python",
   "nbconvert_exporter": "python",
   "pygments_lexer": "ipython3",
   "version": "3.7.1"
  }
 },
 "nbformat": 4,
 "nbformat_minor": 2
}
