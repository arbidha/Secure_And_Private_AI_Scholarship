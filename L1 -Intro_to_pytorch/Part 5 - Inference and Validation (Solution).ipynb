{
 "cells": [
  {
   "cell_type": "markdown",
   "metadata": {},
   "source": [
    "# Inference and Validation\n",
    "Now that you have a trained network, you can use it for making $predictions$. This is typically called **inference**, a term borrowed from statistics. However, neural networks have a tendency to perform too well on the training data and aren't able to generalize to data that hasn't been seen before. This is called **overfitting** and it impairs inference performance. \n",
    "To **test for overfitting** while training, we measure the performance on data not in the training set called the **validation set**. We avoid overfitting through regularization such as dropout while monitoring the validation performance during training. \n",
    "\n",
    "**how to do this in PyTorch**\n",
    "   * Start by loading the dataset through torchvision.This time we'll be taking advantage of the test set which you can get by setting train=False here:\n",
    "\n",
    "    testset = datasets.FashionMNIST('~/.pytorch/F_MNIST_data/', download=True, train=False, transform=transform)\n",
    "    \n",
    "The test set contains images just like the training set. Typically you'll see 10-20% of the original dataset held out for testing and validation with the rest being used for training."
   ]
  },
  {
   "cell_type": "code",
   "execution_count": 1,
   "metadata": {},
   "outputs": [],
   "source": [
    "import torch\n",
    "from torchvision import datasets, transforms\n",
    "\n",
    "# Define a transform to normalize the data\n",
    "transform = transforms.Compose([transforms.ToTensor(),\n",
    "                                transforms.Normalize((0.5,), (0.5,))])\n",
    "# Download and load the training data\n",
    "trainset = datasets.FashionMNIST('~/.pytorch/F_MNIST_data/', download=True, train=True, transform=transform)\n",
    "trainloader = torch.utils.data.DataLoader(trainset, batch_size=64, shuffle=True)\n",
    "\n",
    "# Download and load the test data\n",
    "testset = datasets.FashionMNIST('~/.pytorch/F_MNIST_data/', download=True, train=False, transform=transform)\n",
    "testloader = torch.utils.data.DataLoader(testset, batch_size=64, shuffle=True)"
   ]
  },
  {
   "cell_type": "markdown",
   "metadata": {},
   "source": [
    "## Build Network Model"
   ]
  },
  {
   "cell_type": "code",
   "execution_count": 2,
   "metadata": {},
   "outputs": [],
   "source": [
    "\n",
    "from torch import nn, optim\n",
    "import torch.nn.functional as F\n",
    "\n",
    "class Classifier(nn.Module):\n",
    "    def __init__(self):\n",
    "        super().__init__()\n",
    "        self.fc1 = nn.Linear(784, 256)\n",
    "        self.fc2 = nn.Linear(256, 128)\n",
    "        self.fc3 = nn.Linear(128, 64)\n",
    "        self.fc4 = nn.Linear(64, 10)\n",
    "        \n",
    "    def forward(self, x):\n",
    "        # make sure input tensor is flattened\n",
    "        x = x.view(x.shape[0], -1)\n",
    "        \n",
    "        x = F.relu(self.fc1(x))\n",
    "        x = F.relu(self.fc2(x))\n",
    "        x = F.relu(self.fc3(x))\n",
    "        x = F.log_softmax(self.fc4(x), dim=1)\n",
    "        \n",
    "        return x"
   ]
  },
  {
   "cell_type": "markdown",
   "metadata": {},
   "source": [
    "**Note** \n",
    "* The goal of validation is to measure the model's performance on data that isn't part of the training set. (Peformance is based on the developer,but mostly its accuracy)\n",
    "* We'll focus on accuracy here.\n",
    "    * First forward pass with one batch from the test set."
   ]
  },
  {
   "cell_type": "code",
   "execution_count": 3,
   "metadata": {},
   "outputs": [
    {
     "name": "stdout",
     "output_type": "stream",
     "text": [
      "torch.Size([64, 10])\n"
     ]
    }
   ],
   "source": [
    "\n",
    "model = Classifier()\n",
    "\n",
    "images, labels = next(iter(testloader))\n",
    "# Get the class probabilities\n",
    "ps = torch.exp(model(images))\n",
    "# Make sure the shape is appropriate, we should get 10 class probabilities for 64 examples\n",
    "print(ps.shape)"
   ]
  },
  {
   "cell_type": "markdown",
   "metadata": {},
   "source": [
    "**ps.topk** method **returns probabilities and class**\n",
    "ps.topk(1). This returns a tuple of the top-$k$ values and the top-$k$ indices. If the highest value is the fifth element, we'll get back 4 as the index."
   ]
  },
  {
   "cell_type": "code",
   "execution_count": 4,
   "metadata": {},
   "outputs": [
    {
     "name": "stdout",
     "output_type": "stream",
     "text": [
      "tensor([[5],\n",
      "        [3],\n",
      "        [3],\n",
      "        [3],\n",
      "        [5],\n",
      "        [5],\n",
      "        [5],\n",
      "        [3],\n",
      "        [3],\n",
      "        [3]])\n"
     ]
    }
   ],
   "source": [
    "top_p, top_class = ps.topk(1, dim=1)\n",
    "# Look at the most likely classes for the first 10 examples\n",
    "print(top_class[:10,:])"
   ]
  },
  {
   "cell_type": "markdown",
   "metadata": {},
   "source": [
    "## Check if predicted classes match the label\n",
    "\n",
    "This is simple to do by **equating top_class and labels**, but we have to **be careful of the shapes.**  \n",
    "$Example:$\n",
    "top_class is a 2D tensor with shape (64, 1)\n",
    "labels is 1D with shape (64)\n",
    "To get the equality to work out use the below code\n"
   ]
  },
  {
   "cell_type": "code",
   "execution_count": 5,
   "metadata": {},
   "outputs": [],
   "source": [
    "equals = top_class == labels.view(*top_class.shape)"
   ]
  },
  {
   "cell_type": "markdown",
   "metadata": {},
   "source": [
    "## calculate the percentage of correct predictions\n",
    "equals has binary values, either 0 or 1.This means that if we just sum up all the values and divide by the number of values, we get the percentage of correct predictions. \n",
    "\n",
    "TO DO THIS\n",
    "* Convert equals to a float tensor\n",
    "**Note** that when we take **torch.mean** it returns a **scalar tensor**, to get the **actual value as a float we'll need to do accuracy.item().**"
   ]
  },
  {
   "cell_type": "code",
   "execution_count": 6,
   "metadata": {},
   "outputs": [
    {
     "name": "stdout",
     "output_type": "stream",
     "text": [
      "Accuracy: 3.125%\n"
     ]
    }
   ],
   "source": [
    "\n",
    "accuracy = torch.mean(equals.type(torch.FloatTensor))\n",
    "print(f'Accuracy: {accuracy.item()*100}%')"
   ]
  },
  {
   "cell_type": "markdown",
   "metadata": {},
   "source": [
    " Currently the network is untrained ,so accuracy is about 10%\n",
    "\n",
    "## Lets Train the Network and Include Validation pass\n",
    "so we can measure how well the network is performing on the test set. Since we're not updating our parameters in the validation pass, we can speed up the by turning off gradients using torch.no_grad():\n",
    "\n",
    "````\n",
    "# turn off gradients\n",
    "with torch.no_grad():\n",
    "    # validation pass here\n",
    "    for images, labels in testloader:\n",
    "        ...\n",
    "````"
   ]
  },
  {
   "cell_type": "markdown",
   "metadata": {},
   "source": [
    "### Exercise 1:\n",
    "Implement the validation loop below and print out the total accuracy after the loop. You can largely copy and paste the code from above, but I suggest typing it in because writing it out yourself is essential for building the skill. In general you'll always learn more by typing it rather than copy-pasting. You should be able to get an accuracy above 80%."
   ]
  },
  {
   "cell_type": "code",
   "execution_count": 7,
   "metadata": {},
   "outputs": [
    {
     "name": "stdout",
     "output_type": "stream",
     "text": [
      "Epoch: 1/30..  Training Loss: 0.514..  Test Loss: 0.444..  Test Accuracy: 0.836\n",
      "Epoch: 2/30..  Training Loss: 0.393..  Test Loss: 0.380..  Test Accuracy: 0.863\n",
      "Epoch: 3/30..  Training Loss: 0.352..  Test Loss: 0.393..  Test Accuracy: 0.863\n",
      "Epoch: 4/30..  Training Loss: 0.329..  Test Loss: 0.379..  Test Accuracy: 0.865\n",
      "Epoch: 5/30..  Training Loss: 0.313..  Test Loss: 0.389..  Test Accuracy: 0.863\n",
      "Epoch: 6/30..  Training Loss: 0.301..  Test Loss: 0.365..  Test Accuracy: 0.872\n",
      "Epoch: 7/30..  Training Loss: 0.290..  Test Loss: 0.389..  Test Accuracy: 0.861\n",
      "Epoch: 8/30..  Training Loss: 0.280..  Test Loss: 0.401..  Test Accuracy: 0.865\n",
      "Epoch: 9/30..  Training Loss: 0.271..  Test Loss: 0.395..  Test Accuracy: 0.875\n",
      "Epoch: 10/30..  Training Loss: 0.263..  Test Loss: 0.369..  Test Accuracy: 0.878\n",
      "Epoch: 11/30..  Training Loss: 0.254..  Test Loss: 0.374..  Test Accuracy: 0.871\n",
      "Epoch: 12/30..  Training Loss: 0.251..  Test Loss: 0.384..  Test Accuracy: 0.874\n",
      "Epoch: 13/30..  Training Loss: 0.244..  Test Loss: 0.361..  Test Accuracy: 0.872\n",
      "Epoch: 14/30..  Training Loss: 0.239..  Test Loss: 0.380..  Test Accuracy: 0.876\n",
      "Epoch: 15/30..  Training Loss: 0.232..  Test Loss: 0.356..  Test Accuracy: 0.881\n",
      "Epoch: 16/30..  Training Loss: 0.227..  Test Loss: 0.397..  Test Accuracy: 0.871\n",
      "Epoch: 17/30..  Training Loss: 0.227..  Test Loss: 0.381..  Test Accuracy: 0.876\n",
      "Epoch: 18/30..  Training Loss: 0.216..  Test Loss: 0.371..  Test Accuracy: 0.878\n",
      "Epoch: 19/30..  Training Loss: 0.219..  Test Loss: 0.389..  Test Accuracy: 0.879\n",
      "Epoch: 20/30..  Training Loss: 0.213..  Test Loss: 0.384..  Test Accuracy: 0.876\n",
      "Epoch: 21/30..  Training Loss: 0.206..  Test Loss: 0.382..  Test Accuracy: 0.882\n",
      "Epoch: 22/30..  Training Loss: 0.206..  Test Loss: 0.382..  Test Accuracy: 0.882\n",
      "Epoch: 23/30..  Training Loss: 0.204..  Test Loss: 0.405..  Test Accuracy: 0.881\n",
      "Epoch: 24/30..  Training Loss: 0.195..  Test Loss: 0.397..  Test Accuracy: 0.884\n",
      "Epoch: 25/30..  Training Loss: 0.200..  Test Loss: 0.414..  Test Accuracy: 0.874\n",
      "Epoch: 26/30..  Training Loss: 0.192..  Test Loss: 0.407..  Test Accuracy: 0.886\n",
      "Epoch: 27/30..  Training Loss: 0.188..  Test Loss: 0.440..  Test Accuracy: 0.872\n",
      "Epoch: 28/30..  Training Loss: 0.186..  Test Loss: 0.443..  Test Accuracy: 0.874\n",
      "Epoch: 29/30..  Training Loss: 0.182..  Test Loss: 0.416..  Test Accuracy: 0.878\n",
      "Epoch: 30/30..  Training Loss: 0.178..  Test Loss: 0.443..  Test Accuracy: 0.882\n"
     ]
    }
   ],
   "source": [
    "model = Classifier()\n",
    "criterion = nn.NLLLoss()\n",
    "optimizer = optim.Adam(model.parameters(), lr=0.003)\n",
    "\n",
    "epochs = 30\n",
    "steps = 0\n",
    "\n",
    "train_losses, test_losses = [], []\n",
    "for e in range(epochs):\n",
    "    running_loss = 0\n",
    "    for images, labels in trainloader:\n",
    "        \n",
    "        optimizer.zero_grad()\n",
    "        \n",
    "        log_ps = model(images)\n",
    "        loss = criterion(log_ps, labels)\n",
    "        loss.backward()\n",
    "        optimizer.step()\n",
    "        \n",
    "        running_loss += loss.item()\n",
    "        \n",
    "    else:\n",
    "        \n",
    "        ## TODO: Implement the validation pass and print out the validation accuracy\n",
    "        \n",
    "        test_loss = 0\n",
    "        accuracy = 0\n",
    "        # Turn off gradients for validation, saves memory and computations\n",
    "        with torch.no_grad():\n",
    "            for images, labels in testloader: \n",
    "                log_ps = model(images)\n",
    "                test_loss += criterion(log_ps, labels)\n",
    "                \n",
    "                ps = torch.exp(log_ps)\n",
    "                top_p, top_class = ps.topk(1, dim=1)\n",
    "                equals = top_class == labels.view(*top_class.shape)\n",
    "                accuracy += torch.mean(equals.type(torch.FloatTensor))\n",
    "                \n",
    "        train_losses.append(running_loss/len(trainloader))\n",
    "        test_losses.append(test_loss/len(testloader))\n",
    "\n",
    "        print(\"Epoch: {}/{}.. \".format(e+1, epochs),\n",
    "              \"Training Loss: {:.3f}.. \".format(running_loss/len(trainloader)),\n",
    "              \"Test Loss: {:.3f}.. \".format(test_loss/len(testloader)),\n",
    "              \"Test Accuracy: {:.3f}\".format(accuracy/len(testloader)))\n",
    "                \n",
    "        '''                \n",
    "                ps = torch.exp(model(images))\n",
    "                top_p, top_class = ps.topk(1, dim=1)\n",
    "                equals = top_class == labels.view(*top_class.shape)\n",
    "                accuracy = torch.mean(equals.type(torch.FloatTensor))\n",
    "                \n",
    "        print(f'Accuracy: {accuracy.item()*100}%')\n",
    "        '''\n"
   ]
  },
  {
   "cell_type": "code",
   "execution_count": null,
   "metadata": {},
   "outputs": [],
   "source": [
    "%matplotlib inline\n",
    "%config InlineBackend.figure_format = 'retina'\n",
    "\n",
    "import matplotlib.pyplot as plt"
   ]
  },
  {
   "cell_type": "code",
   "execution_count": 13,
   "metadata": {},
   "outputs": [
    {
     "data": {
      "text/plain": [
       "<matplotlib.legend.Legend at 0x1a30e2f4898>"
      ]
     },
     "execution_count": 13,
     "metadata": {},
     "output_type": "execute_result"
    },
    {
     "data": {
      "image/png": "[encoded data removed]",
      "text/plain": [
       "<Figure size 432x288 with 1 Axes>"
      ]
     },
     "metadata": {
      "image/png": {
       "height": 250,
       "width": 380
      },
      "needs_background": "light"
     },
     "output_type": "display_data"
    }
   ],
   "source": [
    "plt.plot(train_losses, label='Training loss')\n",
    "plt.plot(test_losses, label='Validation loss')\n",
    "plt.legend(frameon=False)"
   ]
  },
  {
   "cell_type": "markdown",
   "metadata": {},
   "source": [
    "I the above plot....\n",
    "If we look at the training and validation losses as we train the network, we can see a phenomenon known as **overfitting**.\n",
    "We see two things happening\n",
    "* The network learns the training set better and better, resulting in lower training losses. \n",
    "* However, it starts having problems generalizing to data outside the training set leading to the validation loss increasing.\n",
    "\n",
    "## Overfitting\n",
    "\n",
    "The **ultimate goal of any deep learning model is to make predictions on new data, so we should strive to get the lowest validation loss possible.**\n",
    "\n",
    "### Option 1 : \"  Early Stopping \" \n",
    "To use the version of the model with the lowest validation loss, here the one around 8-10 training epochs. This strategy is called **early-stopping.** In practice, you'd save the model frequently as you're training then later choose the model with the lowest validation loss.\n",
    "\n",
    "### Option 2 : \"  Dropout \"\n",
    "The most common method to reduce overfitting (outside of early-stopping) is dropout, where we randomly drop input units. This forces the network to share information between weights, increasing it's ability to generalize to new data. Adding dropout in PyTorch is straightforward using the **nn.Dropout** module.\n"
   ]
  },
  {
   "cell_type": "code",
   "execution_count": 9,
   "metadata": {},
   "outputs": [],
   "source": [
    "# Dropout \n",
    "\n",
    "# build classifer \n",
    "class Classifier(nn.Module):\n",
    "    def __init__(self):\n",
    "        super().__init__()\n",
    "        self.fc1 = nn.Linear(784, 256)\n",
    "        self.fc2 = nn.Linear(256, 128)\n",
    "        self.fc3 = nn.Linear(128, 64)\n",
    "        self.fc4 = nn.Linear(64, 10)\n",
    "\n",
    "        # Dropout module with 0.2 drop probability\n",
    "        self.dropout = nn.Dropout(p=0.2)\n",
    "\n",
    "    def forward(self, x):\n",
    "        # make sure input tensor is flattened\n",
    "        x = x.view(x.shape[0], -1)\n",
    "\n",
    "        # Now with dropout\n",
    "        x = self.dropout(F.relu(self.fc1(x)))\n",
    "        x = self.dropout(F.relu(self.fc2(x)))\n",
    "        x = self.dropout(F.relu(self.fc3(x)))\n",
    "\n",
    "        # output or last layer - so no dropout here\n",
    "        x = F.log_softmax(self.fc4(x), dim=1)\n",
    "\n",
    "        return x"
   ]
  },
  {
   "cell_type": "markdown",
   "metadata": {},
   "source": [
    "**Note:**\n",
    "   * During **training** we want to **use dropout** to prevent overfitting\n",
    "   * During **inference** use the **entire network**.\n",
    "        *  turn off dropout during validation, testing ,whenever we're using the network to make predictions\n",
    "        * use **model.eval()**  - This sets the model to evaluation mode where the dropout probability is 0.\n",
    "        * use **model.train()** - to turn the dropout back on ,by setting the model to train mode.\n",
    "\n",
    "### Pattern for validation loop\n",
    "* turn off gradients, \n",
    "* set the model to evaluation mode, \n",
    "* calculate the validation loss and metric, \n",
    "* set the model back to train mode.\n",
    "\n",
    "````\n",
    "# turn off gradients\n",
    "with torch.no_grad():\n",
    "\n",
    "    # set model to evaluation mode\n",
    "    model.eval()\n",
    "\n",
    "    # validation pass here\n",
    "    for images, labels in testloader:\n",
    "        ...\n",
    "\n",
    "# set model back to train mode\n",
    "model.train()\n",
    "````\n"
   ]
  },
  {
   "cell_type": "markdown",
   "metadata": {},
   "source": [
    "### Exercise 2:\n",
    "Add dropout to your model and train it on Fashion-MNIST again. See if you can get a lower validation loss or higher accuracy."
   ]
  },
  {
   "cell_type": "markdown",
   "metadata": {},
   "source": [
    "## TODO: Define your model with dropout added"
   ]
  },
  {
   "cell_type": "code",
   "execution_count": 10,
   "metadata": {},
   "outputs": [],
   "source": [
    "# Dropout \n",
    "\n",
    "# build classifer \n",
    "class Classifier(nn.Module):\n",
    "    def __init__(self):\n",
    "        super().__init__()\n",
    "        self.fc1 = nn.Linear(784, 256)\n",
    "        self.fc2 = nn.Linear(256, 128)\n",
    "        self.fc3 = nn.Linear(128, 64)\n",
    "        self.fc4 = nn.Linear(64, 10)\n",
    "\n",
    "        # Dropout module with 0.2 drop probability\n",
    "        self.dropout = nn.Dropout(p=0.2)\n",
    "\n",
    "    def forward(self, x):\n",
    "        # make sure input tensor is flattened\n",
    "        x = x.view(x.shape[0], -1)\n",
    "\n",
    "        # Now with dropout\n",
    "        x = self.dropout(F.relu(self.fc1(x)))\n",
    "        x = self.dropout(F.relu(self.fc2(x)))\n",
    "        x = self.dropout(F.relu(self.fc3(x)))\n",
    "\n",
    "        # output or last layer - so no dropout here\n",
    "        x = F.log_softmax(self.fc4(x), dim=1)\n",
    "\n",
    "        return x"
   ]
  },
  {
   "cell_type": "markdown",
   "metadata": {},
   "source": [
    "## TODO: Train your model with dropout, and monitor the training progress with the validation loss and accuracy"
   ]
  },
  {
   "cell_type": "code",
   "execution_count": 11,
   "metadata": {},
   "outputs": [
    {
     "name": "stdout",
     "output_type": "stream",
     "text": [
      "Epoch: 1/30..  Training Loss: 0.601..  Test Loss: 0.455..  Test Accuracy: 0.833\n",
      "Epoch: 2/30..  Training Loss: 0.478..  Test Loss: 0.433..  Test Accuracy: 0.842\n",
      "Epoch: 3/30..  Training Loss: 0.449..  Test Loss: 0.415..  Test Accuracy: 0.849\n",
      "Epoch: 4/30..  Training Loss: 0.430..  Test Loss: 0.391..  Test Accuracy: 0.860\n",
      "Epoch: 5/30..  Training Loss: 0.422..  Test Loss: 0.410..  Test Accuracy: 0.851\n",
      "Epoch: 6/30..  Training Loss: 0.410..  Test Loss: 0.427..  Test Accuracy: 0.847\n",
      "Epoch: 7/30..  Training Loss: 0.405..  Test Loss: 0.393..  Test Accuracy: 0.859\n",
      "Epoch: 8/30..  Training Loss: 0.396..  Test Loss: 0.400..  Test Accuracy: 0.862\n",
      "Epoch: 9/30..  Training Loss: 0.400..  Test Loss: 0.388..  Test Accuracy: 0.859\n",
      "Epoch: 10/30..  Training Loss: 0.391..  Test Loss: 0.399..  Test Accuracy: 0.858\n",
      "Epoch: 11/30..  Training Loss: 0.379..  Test Loss: 0.410..  Test Accuracy: 0.855\n",
      "Epoch: 12/30..  Training Loss: 0.381..  Test Loss: 0.368..  Test Accuracy: 0.870\n",
      "Epoch: 13/30..  Training Loss: 0.380..  Test Loss: 0.388..  Test Accuracy: 0.869\n",
      "Epoch: 14/30..  Training Loss: 0.379..  Test Loss: 0.379..  Test Accuracy: 0.864\n",
      "Epoch: 15/30..  Training Loss: 0.371..  Test Loss: 0.386..  Test Accuracy: 0.862\n",
      "Epoch: 16/30..  Training Loss: 0.366..  Test Loss: 0.381..  Test Accuracy: 0.867\n",
      "Epoch: 17/30..  Training Loss: 0.372..  Test Loss: 0.378..  Test Accuracy: 0.868\n",
      "Epoch: 18/30..  Training Loss: 0.370..  Test Loss: 0.371..  Test Accuracy: 0.871\n",
      "Epoch: 19/30..  Training Loss: 0.366..  Test Loss: 0.388..  Test Accuracy: 0.866\n",
      "Epoch: 20/30..  Training Loss: 0.361..  Test Loss: 0.384..  Test Accuracy: 0.864\n",
      "Epoch: 21/30..  Training Loss: 0.362..  Test Loss: 0.394..  Test Accuracy: 0.871\n",
      "Epoch: 22/30..  Training Loss: 0.350..  Test Loss: 0.379..  Test Accuracy: 0.867\n",
      "Epoch: 23/30..  Training Loss: 0.358..  Test Loss: 0.392..  Test Accuracy: 0.865\n",
      "Epoch: 24/30..  Training Loss: 0.359..  Test Loss: 0.379..  Test Accuracy: 0.869\n",
      "Epoch: 25/30..  Training Loss: 0.358..  Test Loss: 0.371..  Test Accuracy: 0.868\n",
      "Epoch: 26/30..  Training Loss: 0.349..  Test Loss: 0.384..  Test Accuracy: 0.871\n",
      "Epoch: 27/30..  Training Loss: 0.350..  Test Loss: 0.383..  Test Accuracy: 0.869\n",
      "Epoch: 28/30..  Training Loss: 0.350..  Test Loss: 0.371..  Test Accuracy: 0.867\n",
      "Epoch: 29/30..  Training Loss: 0.350..  Test Loss: 0.378..  Test Accuracy: 0.871\n",
      "Epoch: 30/30..  Training Loss: 0.343..  Test Loss: 0.375..  Test Accuracy: 0.875\n"
     ]
    }
   ],
   "source": [
    "model = Classifier()\n",
    "criterion = nn.NLLLoss()\n",
    "optimizer = optim.Adam(model.parameters(), lr=0.003)\n",
    "\n",
    "epochs = 30\n",
    "steps = 0\n",
    "\n",
    "train_losses, test_losses = [], []\n",
    "for e in range(epochs):\n",
    "    running_loss = 0\n",
    "    for images, labels in trainloader:\n",
    "        \n",
    "        optimizer.zero_grad()\n",
    "        \n",
    "        log_ps = model(images)\n",
    "        loss = criterion(log_ps, labels)\n",
    "        loss.backward()\n",
    "        optimizer.step()\n",
    "        \n",
    "        running_loss += loss.item()\n",
    "        \n",
    "    else:\n",
    "        \n",
    "       ## TODO: Train your model with dropout, and monitor the training progress with the validation loss and accuracy\n",
    "        test_loss = 0\n",
    "        accuracy = 0\n",
    "        # turn off gradients\n",
    "        with torch.no_grad():\n",
    "            \n",
    "            # set model to evaluation mode\n",
    "            model.eval()\n",
    "            \n",
    "            # validation pass here\n",
    "            for images, labels in testloader: \n",
    "                log_ps = model(images)\n",
    "                test_loss += criterion(log_ps, labels)\n",
    "                \n",
    "                ps = torch.exp(log_ps)\n",
    "                top_p, top_class = ps.topk(1, dim=1)\n",
    "                equals = top_class == labels.view(*top_class.shape)\n",
    "                accuracy += torch.mean(equals.type(torch.FloatTensor))\n",
    "        # set model back to train mode\n",
    "        model.train()            \n",
    "        \n",
    "        train_losses.append(running_loss/len(trainloader))\n",
    "        test_losses.append(test_loss/len(testloader))\n",
    "        \n",
    "\n",
    "\n",
    "        print(\"Epoch: {}/{}.. \".format(e+1, epochs),\n",
    "              \"Training Loss: {:.3f}.. \".format(running_loss/len(trainloader)),\n",
    "              \"Test Loss: {:.3f}.. \".format(test_loss/len(testloader)),\n",
    "              \"Test Accuracy: {:.3f}\".format(accuracy/len(testloader)))"
   ]
  },
  {
   "cell_type": "code",
   "execution_count": 12,
   "metadata": {},
   "outputs": [],
   "source": [
    "\n",
    "%matplotlib inline\n",
    "%config InlineBackend.figure_format = 'retina'\n",
    "\n",
    "import matplotlib.pyplot as plt"
   ]
  },
  {
   "cell_type": "code",
   "execution_count": 13,
   "metadata": {},
   "outputs": [
    {
     "data": {
      "text/plain": [
       "<matplotlib.legend.Legend at 0x1f2d3a8a780>"
      ]
     },
     "execution_count": 13,
     "metadata": {},
     "output_type": "execute_result"
    },
    {
     "data": {
      "image/png": "[encoded data removed]",
      "text/plain": [
       "<Figure size 432x288 with 1 Axes>"
      ]
     },
     "metadata": {
      "image/png": {
       "height": 250,
       "width": 380
      },
      "needs_background": "light"
     },
     "output_type": "display_data"
    }
   ],
   "source": [
    "plt.plot(train_losses, label='Training loss')\n",
    "plt.plot(test_losses, label='Validation loss')\n",
    "plt.legend(frameon=False)"
   ]
  },
  {
   "cell_type": "markdown",
   "metadata": {},
   "source": [
    "## Inference\n",
    "Now that the model is trained, we can use it for inference. We've done this before, but now we need to remember to set the model in inference mode with model.eval(). You'll also want to turn off autograd with the torch.no_"
   ]
  },
  {
   "cell_type": "code",
   "execution_count": 14,
   "metadata": {},
   "outputs": [
    {
     "data": {
      "image/png": "[encoded data removed]",
      "text/plain": [
       "<Figure size 432x648 with 2 Axes>"
      ]
     },
     "metadata": {
      "image/png": {
       "height": 206,
       "width": 423
      },
      "needs_background": "light"
     },
     "output_type": "display_data"
    }
   ],
   "source": [
    "# Import helper module (should be in the repo)\n",
    "import helper\n",
    "\n",
    "# Test out your network!\n",
    "\n",
    "model.eval()\n",
    "\n",
    "dataiter = iter(testloader)\n",
    "images, labels = dataiter.next()\n",
    "img = images[0]\n",
    "# Convert 2D image to 1D vector\n",
    "img = img.view(1, 784)\n",
    "\n",
    "# Calculate the class probabilities (softmax) for img\n",
    "with torch.no_grad():\n",
    "    output = model.forward(img)\n",
    "\n",
    "ps = torch.exp(output)\n",
    "\n",
    "# Plot the image and probabilities\n",
    "helper.view_classify(img.view(1, 28, 28), ps, version='Fashion')"
   ]
  },
  {
   "cell_type": "code",
   "execution_count": null,
   "metadata": {},
   "outputs": [],
   "source": []
  }
 ],
 "metadata": {
  "kernelspec": {
   "display_name": "Python 3",
   "language": "python",
   "name": "python3"
  },
  "language_info": {
   "codemirror_mode": {
    "name": "ipython",
    "version": 3
   },
   "file_extension": ".py",
   "mimetype": "text/x-python",
   "name": "python",
   "nbconvert_exporter": "python",
   "pygments_lexer": "ipython3",
   "version": "3.7.1"
  }
 },
 "nbformat": 4,
 "nbformat_minor": 2
}
